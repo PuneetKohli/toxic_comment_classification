{
 "cells": [
  {
   "cell_type": "code",
   "execution_count": 25,
   "metadata": {},
   "outputs": [],
   "source": [
    "import sys, os, re, csv, codecs, numpy as np, pandas as pd\n",
    "import matplotlib.pyplot as plt\n",
    "\n",
    "from keras.preprocessing.text import Tokenizer\n",
    "from keras.preprocessing.sequence import pad_sequences\n",
    "from keras.layers import Dense, Input, LSTM, Embedding, Dropout, Activation\n",
    "from keras.layers import Bidirectional, GlobalMaxPool1D\n",
    "from keras.models import Model\n",
    "from keras.models import load_model\n",
    "from keras import initializers, regularizers, constraints, optimizers, layers\n",
    "\n",
    "import sys, os\n",
    "sys.path.append(os.path.dirname(os.getcwd()))\n",
    "from score import calc_auc_score, calc_log_loss"
   ]
  },
  {
   "cell_type": "markdown",
   "metadata": {},
   "source": [
    "## Read train and test data"
   ]
  },
  {
   "cell_type": "code",
   "execution_count": 2,
   "metadata": {
    "collapsed": true
   },
   "outputs": [],
   "source": [
    "train = pd.read_csv('../dataset/train_new.csv')\n",
    "test = pd.read_csv('../dataset/test_new.csv')"
   ]
  },
  {
   "cell_type": "markdown",
   "metadata": {},
   "source": [
    "## Get the training class labels"
   ]
  },
  {
   "cell_type": "code",
   "execution_count": 3,
   "metadata": {
    "collapsed": true
   },
   "outputs": [],
   "source": [
    "# Store the list of classes in a variable so that we don't need to specify each one again and again\n",
    "list_classes = [\"toxic\", \"severe_toxic\", \"obscene\", \"threat\", \"insult\", \"identity_hate\"]\n",
    "y = train[list_classes].values"
   ]
  },
  {
   "cell_type": "code",
   "execution_count": 4,
   "metadata": {
    "collapsed": true
   },
   "outputs": [],
   "source": [
    "## Get the list of sentences in training and testingy.shape\n",
    "# this is the y value: \n",
    "# rows ---> comment text, \n",
    "# columns --> \"toxic\", \"severe_toxic\", \"obscene\", \"threat\", \"insult\", \"identity_hate\"\n",
    "# [[0 0 0 0 0 0]\n",
    "#  [0 0 0 0 0 0]\n",
    "#  [0 0 0 0 0 0]\n",
    "#  [0 0 0 0 0 0]\n",
    "#  [0 0 0 0 0 0]\n",
    "#  [0 0 0 0 0 0]\n",
    "#  [1 1 1 0 1 0]\n",
    "#  [0 0 0 0 0 0]\n",
    "#  [0 0 0 0 0 0]\n",
    "#  [0 0 0 0 0 0]]"
   ]
  },
  {
   "cell_type": "markdown",
   "metadata": {},
   "source": [
    "## Get the list of sentences in training and testing"
   ]
  },
  {
   "cell_type": "code",
   "execution_count": 5,
   "metadata": {
    "collapsed": true
   },
   "outputs": [],
   "source": [
    "# list_sentences_train\n",
    "# 0    Explanation\\nWhy the edits made under my usern...\n",
    "# 1    D'aww! He matches this background colour I'm s...\n",
    "# 2    Hey man, I'm really not trying to edit war. It...\n",
    "# 3    \"\\nMore\\nI can't make any real suggestions on ...\n",
    "# 4    You, sir, are my hero. Any chance you remember...\n",
    "# 5    \"\\n\\nCongratulations from me as well, use the ...\n",
    "# 6         COCKSUCKER BEFORE YOU PISS AROUND ON MY WORK\n",
    "# 7    Your vandalism to the Matt Shirvington article...\n",
    "# 8    Sorry if the word 'nonsense' was offensive to ...\n",
    "# 9    alignment on this subject and which are contra...\n"
   ]
  },
  {
   "cell_type": "code",
   "execution_count": 6,
   "metadata": {
    "collapsed": true
   },
   "outputs": [],
   "source": [
    "list_sentences_train = train[\"comment_text\"]\n",
    "list_sentences_test = test[\"comment_text\"]"
   ]
  },
  {
   "cell_type": "markdown",
   "metadata": {},
   "source": [
    "### Create a word tokenizer "
   ]
  },
  {
   "cell_type": "markdown",
   "metadata": {},
   "source": [
    "The Tokenizer allows to vectorize a text corpus, by turning each text into either a sequence of integers (each integer being the index of a token in a dictionary) or into a vector where the coefficient for each token could be binary, based on word count, based on tf-idf..."
   ]
  },
  {
   "cell_type": "code",
   "execution_count": 7,
   "metadata": {
    "collapsed": true
   },
   "outputs": [],
   "source": [
    "max_features = 20000\n",
    "\n",
    "# num_words: the maximum number of words to keep, \n",
    "# based on word frequency. Only the most common num_words words will be kept\n",
    "tokenizer = Tokenizer(num_words=max_features)\n",
    "\n",
    "tokenizer.fit_on_texts(list(list_sentences_train) + list(list_sentences_test))\n",
    "list_tokenized_train = tokenizer.texts_to_sequences(list_sentences_train)\n",
    "list_tokenized_test = tokenizer.texts_to_sequences(list_sentences_test)"
   ]
  },
  {
   "cell_type": "code",
   "execution_count": 8,
   "metadata": {},
   "outputs": [
    {
     "name": "stdout",
     "output_type": "stream",
     "text": [
      "done\n"
     ]
    }
   ],
   "source": [
    "# pad_sequences: Sequences that are shorter than maxlen are padded with value at the end.\n",
    "# Sequences longer than maxlen are truncated so that they fit the desired length.\n",
    "# By default, padded or truncated at the front\n",
    "\n",
    "maxlen = 200\n",
    "X_t = pad_sequences(list_tokenized_train, maxlen=maxlen)\n",
    "X_te = pad_sequences(list_tokenized_test, maxlen=maxlen)\n",
    "\n",
    "\n",
    "inp = Input(shape=(maxlen, ))\n",
    "embed_size = 128\n",
    "\n",
    "# Embedding: Turns positive integers (indexes) into dense vectors of fixed size.\n",
    "# eg. [[4], [20]] -> [[0.25, 0.1], [0.6, -0.2]]\n",
    "# Embedding layer can only be used as the first layer in a model.\n",
    "\n",
    "x = Embedding(max_features, embed_size)(inp)\n",
    "\n",
    "# Sequence classification with LSTM\n",
    "x = LSTM(60, return_sequences=True,name='lstm_layer')(x)\n",
    "x = GlobalMaxPool1D()(x)\n",
    "\n",
    "# Dropout consists in randomly setting a fraction rate of input units to 0 \n",
    "# at each update during training time, which helps prevent overfitting\n",
    "x = Dropout(0.1)(x)\n",
    "\n",
    "x = Dense(50, activation=\"relu\")(x)\n",
    "\n",
    "\n",
    "# relu: rectifier activation function\n",
    "# 50: # of neurons in the first layers\n",
    "# 0.1 (rate): float between 0 and 1. Fraction of the input units to drop.\n",
    "x = Dropout(0.1)(x)\n",
    "x = Dense(6, activation=\"sigmoid\")(x)\n",
    "\n",
    "# now the model will take as input arrays of shape (*, 200)\n",
    "# and output arrays of shape (*, 32)\n",
    "\n",
    "model = Model(inputs=inp, outputs=x)\n",
    "\n",
    "# Configures the model for training.\n",
    "# binary_crossentropy: logarithmic loss\n",
    "# adam: stochastic gradient descent\n",
    "model.compile(loss='binary_crossentropy',\n",
    "                  optimizer='adam',\n",
    "                  metrics=['accuracy'])\n",
    "\n",
    "\n",
    "# using mean square error to evalute the model instead\n",
    "# use accuracy and mean absolute error as perfoemance metrics\n",
    "# configure the model using the given metrics \n",
    "# model.compile(loss='mean_squared_error',\n",
    "#               optimizer='sgd',\n",
    "#               metrics=['mae', 'acc'])\n",
    "\n",
    "print (\"done\")"
   ]
  },
  {
   "cell_type": "code",
   "execution_count": 31,
   "metadata": {},
   "outputs": [
    {
     "name": "stdout",
     "output_type": "stream",
     "text": [
      "start fitting...\n",
      "('Model already exists. Loading from path ', 'lstm_model.h5')\n",
      "done\n"
     ]
    }
   ],
   "source": [
    "print(\"start fitting...\")\n",
    "file_path = \"lstm_model.h5\"\n",
    "if os.path.isfile(file_path):\n",
    "    print (\"Model already exists. Loading from path \", file_path)\n",
    "    model = load_model(file_path)\n",
    "else:\n",
    "    print (\"Model doesn't exist already, training model and saving at path \", file_path)\n",
    "    model.fit(X_t,y, epochs=2, batch_size=32, validation_split=0.1)\n",
    "    model.save(file_path)\n",
    "\n",
    "print (\"done\")"
   ]
  },
  {
   "cell_type": "code",
   "execution_count": 10,
   "metadata": {},
   "outputs": [
    {
     "name": "stdout",
     "output_type": "stream",
     "text": [
      "start preditcting...\n",
      "done\n"
     ]
    }
   ],
   "source": [
    "print(\"start preditcting...\")\n",
    "y_pred = model.predict(X_te, batch_size=1024)\n",
    "print (\"done\")"
   ]
  },
  {
   "cell_type": "code",
   "execution_count": 11,
   "metadata": {},
   "outputs": [
    {
     "name": "stdout",
     "output_type": "stream",
     "text": [
      "done\n"
     ]
    }
   ],
   "source": [
    "submission = pd.DataFrame.from_dict({'id': test['id']})\n",
    "for idx, col in enumerate(list_classes):\n",
    "    submission[col] = y_pred[:,idx]\n",
    "submission.to_csv('submission.csv', index=False)\n",
    "print (\"done\")"
   ]
  },
  {
   "cell_type": "code",
   "execution_count": 12,
   "metadata": {},
   "outputs": [
    {
     "name": "stdout",
     "output_type": "stream",
     "text": [
      "{\"class_name\": \"Model\", \"keras_version\": \"2.1.6\", \"config\": {\"layers\": [{\"class_name\": \"InputLayer\", \"config\": {\"dtype\": \"float32\", \"batch_input_shape\": [null, 200], \"name\": \"input_1\", \"sparse\": false}, \"inbound_nodes\": [], \"name\": \"input_1\"}, {\"class_name\": \"Embedding\", \"config\": {\"embeddings_initializer\": {\"class_name\": \"RandomUniform\", \"config\": {\"maxval\": 0.05, \"seed\": null, \"minval\": -0.05}}, \"name\": \"embedding_1\", \"dtype\": \"float32\", \"output_dim\": 128, \"trainable\": true, \"embeddings_regularizer\": null, \"input_dim\": 20000, \"mask_zero\": false, \"embeddings_constraint\": null, \"batch_input_shape\": [null, null], \"activity_regularizer\": null, \"input_length\": null}, \"inbound_nodes\": [[[\"input_1\", 0, 0, {}]]], \"name\": \"embedding_1\"}, {\"class_name\": \"LSTM\", \"config\": {\"recurrent_activation\": \"hard_sigmoid\", \"trainable\": true, \"recurrent_initializer\": {\"class_name\": \"Orthogonal\", \"config\": {\"seed\": null, \"gain\": 1.0}}, \"use_bias\": true, \"bias_regularizer\": null, \"return_state\": false, \"unroll\": false, \"activation\": \"tanh\", \"bias_initializer\": {\"class_name\": \"Zeros\", \"config\": {}}, \"units\": 60, \"unit_forget_bias\": true, \"activity_regularizer\": null, \"recurrent_dropout\": 0.0, \"kernel_initializer\": {\"class_name\": \"VarianceScaling\", \"config\": {\"distribution\": \"uniform\", \"scale\": 1.0, \"seed\": null, \"mode\": \"fan_avg\"}}, \"kernel_constraint\": null, \"dropout\": 0.0, \"stateful\": false, \"recurrent_regularizer\": null, \"name\": \"lstm_layer\", \"bias_constraint\": null, \"go_backwards\": false, \"implementation\": 1, \"kernel_regularizer\": null, \"return_sequences\": true, \"recurrent_constraint\": null}, \"inbound_nodes\": [[[\"embedding_1\", 0, 0, {}]]], \"name\": \"lstm_layer\"}, {\"class_name\": \"GlobalMaxPooling1D\", \"config\": {\"trainable\": true, \"name\": \"global_max_pooling1d_1\"}, \"inbound_nodes\": [[[\"lstm_layer\", 0, 0, {}]]], \"name\": \"global_max_pooling1d_1\"}, {\"class_name\": \"Dropout\", \"config\": {\"rate\": 0.1, \"noise_shape\": null, \"trainable\": true, \"seed\": null, \"name\": \"dropout_1\"}, \"inbound_nodes\": [[[\"global_max_pooling1d_1\", 0, 0, {}]]], \"name\": \"dropout_1\"}, {\"class_name\": \"Dense\", \"config\": {\"kernel_initializer\": {\"class_name\": \"VarianceScaling\", \"config\": {\"distribution\": \"uniform\", \"scale\": 1.0, \"seed\": null, \"mode\": \"fan_avg\"}}, \"name\": \"dense_1\", \"kernel_constraint\": null, \"bias_regularizer\": null, \"bias_constraint\": null, \"activation\": \"relu\", \"trainable\": true, \"kernel_regularizer\": null, \"bias_initializer\": {\"class_name\": \"Zeros\", \"config\": {}}, \"units\": 50, \"use_bias\": true, \"activity_regularizer\": null}, \"inbound_nodes\": [[[\"dropout_1\", 0, 0, {}]]], \"name\": \"dense_1\"}, {\"class_name\": \"Dropout\", \"config\": {\"rate\": 0.1, \"noise_shape\": null, \"trainable\": true, \"seed\": null, \"name\": \"dropout_2\"}, \"inbound_nodes\": [[[\"dense_1\", 0, 0, {}]]], \"name\": \"dropout_2\"}, {\"class_name\": \"Dense\", \"config\": {\"kernel_initializer\": {\"class_name\": \"VarianceScaling\", \"config\": {\"distribution\": \"uniform\", \"scale\": 1.0, \"seed\": null, \"mode\": \"fan_avg\"}}, \"name\": \"dense_2\", \"kernel_constraint\": null, \"bias_regularizer\": null, \"bias_constraint\": null, \"activation\": \"sigmoid\", \"trainable\": true, \"kernel_regularizer\": null, \"bias_initializer\": {\"class_name\": \"Zeros\", \"config\": {}}, \"units\": 6, \"use_bias\": true, \"activity_regularizer\": null}, \"inbound_nodes\": [[[\"dropout_2\", 0, 0, {}]]], \"name\": \"dense_2\"}], \"input_layers\": [[\"input_1\", 0, 0]], \"output_layers\": [[\"dense_2\", 0, 0]], \"name\": \"model_1\"}, \"backend\": \"tensorflow\"}\n"
     ]
    }
   ],
   "source": [
    "r = model.to_json()\n",
    "print (r)"
   ]
  },
  {
   "cell_type": "code",
   "execution_count": 20,
   "metadata": {
    "collapsed": true
   },
   "outputs": [],
   "source": [
    "model.save(\"lstm_model.h5\")"
   ]
  },
  {
   "cell_type": "code",
   "execution_count": 26,
   "metadata": {},
   "outputs": [],
   "source": [
    "new_model = load_model('lstm_model.h5')"
   ]
  },
  {
   "cell_type": "code",
   "execution_count": 15,
   "metadata": {
    "collapsed": true
   },
   "outputs": [],
   "source": [
    "def get_scores(test, preds, fallback_preds_filename):\n",
    "    try: \n",
    "        true = test\n",
    "    except NameError:\n",
    "        true = pd.read_csv('../dataset/test_new.csv')\n",
    "    try: \n",
    "        y_pred = preds\n",
    "    except NameError:\n",
    "        pred = pd.read_csv(fallback_preds_filename)\n",
    "        y_pred = pred[list_classes].values\n",
    "\n",
    "    y_true = true[list_classes].values\n",
    "\n",
    "    loss = calc_log_loss(y_true, y_pred)\n",
    "    auc = calc_auc_score(y_true, y_pred)\n",
    "    return loss, auc"
   ]
  },
  {
   "cell_type": "code",
   "execution_count": 16,
   "metadata": {},
   "outputs": [
    {
     "name": "stdout",
     "output_type": "stream",
     "text": [
      "[0 0 0 0 0 0]\n",
      "[0.17043376 0.00030354 0.00837982 0.00228762 0.02350723 0.00728446]\n"
     ]
    }
   ],
   "source": [
    "true = pd.read_csv('../dataset/test_new.csv')\n",
    "pred = y_pred\n",
    "\n",
    "list_classes = [\"toxic\", \"severe_toxic\", \"obscene\", \"threat\", \"insult\", \"identity_hate\"]\n",
    "y_true = true[list_classes].values\n",
    "\n",
    "print y_true[0]\n",
    "print y_pred[0]\n",
    "loss_, aucs = get_scores(true, pred, fallback_preds_filename=None)"
   ]
  },
  {
   "cell_type": "code",
   "execution_count": 19,
   "metadata": {},
   "outputs": [
    {
     "name": "stdout",
     "output_type": "stream",
     "text": [
      "('Log loss = ', 0.04767628315445003)\n",
      "('AUC Score = ', 0.9788112586949559)\n"
     ]
    }
   ],
   "source": [
    "print (\"Log loss = \", loss_)\n",
    "print (\"AUC Score = \", aucs)"
   ]
  },
  {
   "cell_type": "code",
   "execution_count": 46,
   "metadata": {},
   "outputs": [
    {
     "name": "stdout",
     "output_type": "stream",
     "text": [
      "[0 0 0 ... 0 0 0]\n"
     ]
    }
   ],
   "source": [
    "from sklearn.metrics import confusion_matrix\n",
    "y_classes = y_pred.argmax(axis=1)\n",
    "print y_classes"
   ]
  },
  {
   "cell_type": "code",
   "execution_count": null,
   "metadata": {
    "collapsed": true
   },
   "outputs": [],
   "source": []
  }
 ],
 "metadata": {
  "kernelspec": {
   "display_name": "Python 2",
   "language": "python",
   "name": "python2"
  },
  "language_info": {
   "codemirror_mode": {
    "name": "ipython",
    "version": 2
   },
   "file_extension": ".py",
   "mimetype": "text/x-python",
   "name": "python",
   "nbconvert_exporter": "python",
   "pygments_lexer": "ipython2",
   "version": "2.7.14"
  }
 },
 "nbformat": 4,
 "nbformat_minor": 2
}
