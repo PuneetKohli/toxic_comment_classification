{
 "cells": [
  {
   "cell_type": "code",
   "execution_count": 85,
   "metadata": {},
   "outputs": [],
   "source": [
    "import sys, os, re, csv, codecs, numpy as np, pandas as pd\n",
    "import matplotlib.pyplot as plt\n",
    "\n",
    "from keras.preprocessing.text import Tokenizer\n",
    "from keras.preprocessing.sequence import pad_sequences\n",
    "from keras.layers import Dense, Input, LSTM, Embedding, Dropout, Activation\n",
    "from keras.layers import Bidirectional, GlobalMaxPool1D\n",
    "from keras.models import Model\n",
    "from keras import initializers, regularizers, constraints, optimizers, layers"
   ]
  },
  {
   "cell_type": "markdown",
   "metadata": {},
   "source": [
    "## Read train and test data"
   ]
  },
  {
   "cell_type": "code",
   "execution_count": null,
   "metadata": {},
   "outputs": [],
   "source": [
    "train = pd.read_csv('../dataset/train_new.csv')\n",
    "test = pd.read_csv('../dataset/test_new.csv')"
   ]
  },
  {
   "cell_type": "markdown",
   "metadata": {},
   "source": [
    "## Get the training class labels"
   ]
  },
  {
   "cell_type": "code",
   "execution_count": 76,
   "metadata": {},
   "outputs": [],
   "source": [
    "# Store the list of classes in a variable so that we don't need to specify each one again and again\n",
    "list_classes = [\"toxic\", \"severe_toxic\", \"obscene\", \"threat\", \"insult\", \"identity_hate\"]\n",
    "y = train[list_classes].values"
   ]
  },
  {
   "cell_type": "code",
   "execution_count": 81,
   "metadata": {},
   "outputs": [
    {
     "data": {
      "text/plain": [
       "(127656, 6)"
      ]
     },
     "execution_count": 81,
     "metadata": {},
     "output_type": "execute_result"
    }
   ],
   "source": [
    "## Get the list of sentences in training and testingy.shape\n",
    "# this is the y value: \n",
    "# rows ---> comment text, \n",
    "# columns --> \"toxic\", \"severe_toxic\", \"obscene\", \"threat\", \"insult\", \"identity_hate\"\n",
    "# [[0 0 0 0 0 0]\n",
    "#  [0 0 0 0 0 0]\n",
    "#  [0 0 0 0 0 0]\n",
    "#  [0 0 0 0 0 0]\n",
    "#  [0 0 0 0 0 0]\n",
    "#  [0 0 0 0 0 0]\n",
    "#  [1 1 1 0 1 0]\n",
    "#  [0 0 0 0 0 0]\n",
    "#  [0 0 0 0 0 0]\n",
    "#  [0 0 0 0 0 0]]"
   ]
  },
  {
   "cell_type": "markdown",
   "metadata": {},
   "source": [
    "## Get the list of sentences in training and testing"
   ]
  },
  {
   "cell_type": "code",
   "execution_count": 83,
   "metadata": {},
   "outputs": [],
   "source": [
    "# list_sentences_train\n",
    "# 0    Explanation\\nWhy the edits made under my usern...\n",
    "# 1    D'aww! He matches this background colour I'm s...\n",
    "# 2    Hey man, I'm really not trying to edit war. It...\n",
    "# 3    \"\\nMore\\nI can't make any real suggestions on ...\n",
    "# 4    You, sir, are my hero. Any chance you remember...\n",
    "# 5    \"\\n\\nCongratulations from me as well, use the ...\n",
    "# 6         COCKSUCKER BEFORE YOU PISS AROUND ON MY WORK\n",
    "# 7    Your vandalism to the Matt Shirvington article...\n",
    "# 8    Sorry if the word 'nonsense' was offensive to ...\n",
    "# 9    alignment on this subject and which are contra...\n"
   ]
  },
  {
   "cell_type": "code",
   "execution_count": 84,
   "metadata": {},
   "outputs": [],
   "source": [
    "list_sentences_train = train[\"comment_text\"]\n",
    "list_sentences_test = test[\"comment_text\"]"
   ]
  },
  {
   "cell_type": "code",
   "execution_count": 3,
   "metadata": {},
   "outputs": [
    {
     "name": "stdout",
     "output_type": "stream",
     "text": [
      "hello\n"
     ]
    }
   ],
   "source": [
    "train = pd.read_csv('input/train.csv')\n",
    "test = pd.read_csv('input/test.csv')\n",
    "\n",
    "list_classes = [\"toxic\", \"severe_toxic\", \"obscene\", \"threat\", \"insult\", \"identity_hate\"]\n",
    "y = train[list_classes].values\n",
    "\n",
    "# this is the y value: \n",
    "# rows ---> comment text, \n",
    "# columns --> \"toxic\", \"severe_toxic\", \"obscene\", \"threat\", \"insult\", \"identity_hate\"\n",
    "# [[0 0 0 0 0 0]\n",
    "#  [0 0 0 0 0 0]\n",
    "#  [0 0 0 0 0 0]\n",
    "#  [0 0 0 0 0 0]\n",
    "#  [0 0 0 0 0 0]\n",
    "#  [0 0 0 0 0 0]\n",
    "#  [1 1 1 0 1 0]\n",
    "#  [0 0 0 0 0 0]\n",
    "#  [0 0 0 0 0 0]\n",
    "#  [0 0 0 0 0 0]]\n",
    "\n",
    "list_sentences_train = train[\"comment_text\"]\n",
    "\n",
    "# list_sentences_train\n",
    "# 0    Explanation\\nWhy the edits made under my usern...\n",
    "# 1    D'aww! He matches this background colour I'm s...\n",
    "# 2    Hey man, I'm really not trying to edit war. It...\n",
    "# 3    \"\\nMore\\nI can't make any real suggestions on ...\n",
    "# 4    You, sir, are my hero. Any chance you remember...\n",
    "# 5    \"\\n\\nCongratulations from me as well, use the ...\n",
    "# 6         COCKSUCKER BEFORE YOU PISS AROUND ON MY WORK\n",
    "# 7    Your vandalism to the Matt Shirvington article...\n",
    "# 8    Sorry if the word 'nonsense' was offensive to ...\n",
    "# 9    alignment on this subject and which are contra...\n",
    "\n",
    "list_sentences_test = test[\"comment_text\"]\n",
    "\n",
    "print \"hello\""
   ]
  },
  {
   "cell_type": "code",
   "execution_count": 4,
   "metadata": {},
   "outputs": [
    {
     "name": "stdout",
     "output_type": "stream",
     "text": [
      "done\n"
     ]
    }
   ],
   "source": [
    "max_features = 20000\n",
    "\n",
    "\n",
    "# tokenizer: allows to vectorize a text corpus, \n",
    "# by turning each text into either a sequence of integers \n",
    "# (each integer being the index of a token in a dictionary) \n",
    "\n",
    "# num_words: the maximum number of words to keep, \n",
    "# based on word frequency. Only the most common num_words words will be kept\n",
    "tokenizer = Tokenizer(num_words=max_features)\n",
    "\n",
    "# assign each word an index\n",
    "# {'sun': 1, 'september': 1, 'june': 1, 'other': 1, 'the': 1, 'and': 1, \n",
    "#  'like': 1, 'things': 1, 'in': 2, 'beautiful': 1, 'grey': 1, 'shining': 1,\n",
    "#  'i': 1, 'is': 3, 'august': 1, 'it': 1, 'life': 1, 'this': 1}\n",
    "\n",
    "# input : [\"June is beautiful and I like it!\"])\n",
    "\n",
    "# output: [[5, 1, 11, 8, 14, 9, 16]]\n",
    "\n",
    "tokenizer.fit_on_texts(list(list_sentences_train) + list(list_sentences_test))\n",
    "list_tokenized_train = tokenizer.texts_to_sequences(list_sentences_train)\n",
    "list_tokenized_test = tokenizer.texts_to_sequences(list_sentences_test)\n",
    "\n",
    "\n",
    "# pad_sequences: Sequences that are shorter than maxlen are padded with value at the end.\n",
    "# Sequences longer than maxlen are truncated so that they fit the desired length.\n",
    "# By default, padded or truncated at the front\n",
    "\n",
    "maxlen = 200\n",
    "X_t = pad_sequences(list_tokenized_train, maxlen=maxlen)\n",
    "X_te = pad_sequences(list_tokenized_test, maxlen=maxlen)\n",
    "\n",
    "\n",
    "inp = Input(shape=(maxlen, ))\n",
    "embed_size = 128\n",
    "\n",
    "# Embedding: Turns positive integers (indexes) into dense vectors of fixed size.\n",
    "# eg. [[4], [20]] -> [[0.25, 0.1], [0.6, -0.2]]\n",
    "# Embedding layer can only be used as the first layer in a model.\n",
    "\n",
    "x = Embedding(max_features, embed_size)(inp)\n",
    "\n",
    "# Sequence classification with LSTM\n",
    "x = LSTM(60, return_sequences=True,name='lstm_layer')(x)\n",
    "x = GlobalMaxPool1D()(x)\n",
    "\n",
    "# Dropout consists in randomly setting a fraction rate of input units to 0 \n",
    "# at each update during training time, which helps prevent overfitting\n",
    "x = Dropout(0.1)(x)\n",
    "\n",
    "x = Dense(50, activation=\"relu\")(x)\n",
    "\n",
    "\n",
    "# relu: rectifier activation function\n",
    "# 50: # of neurons in the first layers\n",
    "# 0.1 (rate): float between 0 and 1. Fraction of the input units to drop.\n",
    "x = Dropout(0.1)(x)\n",
    "x = Dense(6, activation=\"sigmoid\")(x)\n",
    "\n",
    "# now the model will take as input arrays of shape (*, 200)\n",
    "# and output arrays of shape (*, 32)\n",
    "\n",
    "model = Model(inputs=inp, outputs=x)\n",
    "\n",
    "# Configures the model for training.\n",
    "# binary_crossentropy: logarithmic loss\n",
    "# adam: stochastic gradient descent\n",
    "model.compile(loss='binary_crossentropy',\n",
    "                  optimizer='adam',\n",
    "                  metrics=['accuracy'])\n",
    "\n",
    "\n",
    "# using mean square error to evalute the model instead\n",
    "# use accuracy and mean absolute error as perfoemance metrics\n",
    "# configure the model using the given metrics \n",
    "# model.compile(loss='mean_squared_error',\n",
    "#               optimizer='sgd',\n",
    "#               metrics=['mae', 'acc'])\n",
    "\n",
    "print \"done\""
   ]
  },
  {
   "cell_type": "code",
   "execution_count": 5,
   "metadata": {},
   "outputs": [
    {
     "name": "stdout",
     "output_type": "stream",
     "text": [
      "start fitting...\n",
      "Train on 143613 samples, validate on 15958 samples\n",
      "Epoch 1/2\n",
      "143613/143613 [==============================] - 2656s 18ms/step - loss: 0.0672 - acc: 0.9781 - val_loss: 0.0490 - val_acc: 0.9819\n",
      "Epoch 2/2\n",
      "143613/143613 [==============================] - 2404s 17ms/step - loss: 0.0444 - acc: 0.9832 - val_loss: 0.0479 - val_acc: 0.9821\n",
      "done\n"
     ]
    }
   ],
   "source": [
    "print(\"start fitting...\")\n",
    "model.fit(X_t,y, epochs=2, batch_size=32, validation_split=0.1)\n",
    "\n",
    "print \"done\""
   ]
  },
  {
   "cell_type": "code",
   "execution_count": 6,
   "metadata": {},
   "outputs": [
    {
     "name": "stdout",
     "output_type": "stream",
     "text": [
      "start preditcting...\n",
      "done\n"
     ]
    }
   ],
   "source": [
    "print(\"start preditcting...\")\n",
    "y_pred = model.predict(X_te, batch_size=1024)\n",
    "print \"done\""
   ]
  },
  {
   "cell_type": "code",
   "execution_count": 7,
   "metadata": {},
   "outputs": [
    {
     "name": "stdout",
     "output_type": "stream",
     "text": [
      "done\n"
     ]
    }
   ],
   "source": [
    "submission = pd.DataFrame.from_dict({'id': test['id']})\n",
    "for idx, col in enumerate(list_classes):\n",
    "    submission[col] = y_pred[:,idx]\n",
    "submission.to_csv('submission.csv', index=False)\n",
    "print \"done\""
   ]
  },
  {
   "cell_type": "code",
   "execution_count": 1,
   "metadata": {},
   "outputs": [],
   "source": [
    "r = model.to_json()\n",
    "print r"
   ]
  },
  {
   "cell_type": "code",
   "execution_count": 5,
   "metadata": {},
   "outputs": [],
   "source": [
    "from sklearn.metrics import log_loss\n",
    "import sys, os, re, csv, codecs, numpy as np, pandas as pd\n",
    "\n",
    "def calc_loss(y_true, y_pred):\n",
    "    return np.mean([log_loss(y_true[:, i], y_pred[:, i]) \n",
    "                    for i in range(y_true.shape[1])])\n",
    "\n"
   ]
  },
  {
   "cell_type": "code",
   "execution_count": 17,
   "metadata": {},
   "outputs": [
    {
     "name": "stdout",
     "output_type": "stream",
     "text": [
      "[0 0 0 0 0 0]\n",
      "[0 0 0 0 0 0]\n",
      "[0 0 0 0 0 0]\n",
      "done\n"
     ]
    }
   ],
   "source": [
    "true = pd.read_csv('input/train.csv')\n",
    "pred = pd.read_csv('submission.csv')\n",
    "\n",
    "list_classes = [\"toxic\", \"severe_toxic\", \"obscene\", \"threat\", \"insult\", \"identity_hate\"]\n",
    "y_true = true[list_classes].values\n",
    "y_pred = pred[list_classes].values\n",
    "\n",
    "print y_true[0]\n",
    "print y_pred[0]\n",
    "\n",
    "x = y_true - y_pred\n",
    "\n",
    "\n",
    "print x[0]\n",
    "\n",
    "print \"done\""
   ]
  },
  {
   "cell_type": "code",
   "execution_count": null,
   "metadata": {
    "collapsed": true
   },
   "outputs": [],
   "source": []
  }
 ],
 "metadata": {
  "kernelspec": {
   "display_name": "Python [conda env:keras-gpu-2.0.5]",
   "language": "python",
   "name": "conda-env-keras-gpu-2.0.5-py"
  },
  "language_info": {
   "codemirror_mode": {
    "name": "ipython",
    "version": 3
   },
   "file_extension": ".py",
   "mimetype": "text/x-python",
   "name": "python",
   "nbconvert_exporter": "python",
   "pygments_lexer": "ipython3",
   "version": "3.6.2"
  }
 },
 "nbformat": 4,
 "nbformat_minor": 2
}
